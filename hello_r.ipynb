{
 "cells": [
  {
   "cell_type": "markdown",
   "id": "c7d189ba-62d9-49f1-8492-04c208412008",
   "metadata": {},
   "source": [
    "# Hello World in R\n",
    "This notebook demonstrates a simple \"Hello, World!\" script in R."
   ]
  },
  {
   "cell_type": "code",
   "execution_count": 2,
   "id": "6093039b-8ff0-4725-8ca7-2f68847c4e64",
   "metadata": {},
   "outputs": [
    {
     "name": "stdout",
     "output_type": "stream",
     "text": [
      "Hello, World from R!\n"
     ]
    }
   ],
   "source": [
    "cat(\"Hello, World from R!\\n\")"
   ]
  }
 ],
 "metadata": {
  "kernelspec": {
   "display_name": "R (7030_class_1)",
   "language": "R",
   "name": "ir_7030_class_1"
  },
  "language_info": {
   "codemirror_mode": "r",
   "file_extension": ".r",
   "mimetype": "text/x-r-source",
   "name": "R",
   "pygments_lexer": "r",
   "version": "4.4.3"
  }
 },
 "nbformat": 4,
 "nbformat_minor": 5
}
